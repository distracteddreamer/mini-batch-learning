{
 "cells": [
  {
   "cell_type": "markdown",
   "metadata": {},
   "source": [
    "# Chapter 3. The Bayesian Network Representation"
   ]
  },
  {
   "cell_type": "markdown",
   "metadata": {},
   "source": [
    "## Exercise 3.9"
   ]
  },
  {
   "cell_type": "markdown",
   "metadata": {},
   "source": [
    "This exercise involves proving the following theorem (\"Factorisation to I-Map\")\n",
    "\n",
    "*Let $\\mathcal{G}$ be a BN structure over a set of random variables $\\mathcal{X}$ and let P be a joint distribution over the\n",
    "same space. If P factorizes according to $\\mathcal{G}$, then $\\mathcal{G}$ is an I-map for P.*"
   ]
  },
  {
   "cell_type": "markdown",
   "metadata": {},
   "source": [
    "We need to show that given that\n",
    "\n",
    "$$P(X_1, \\ldots, X_n ) = \\prod_{X_i \\in \\mathcal{X}} P\\left(X_i \\lvert \\text{Pa}_{X_i}^G\\right)$$ \n",
    "\n",
    "(where $\\text{Pa}_{X_i}^G$ are the parents of $X_i$ in the graph G), each $X_i$ is independent of its non-descendants in the graph, given its parents in the graph. \n",
    "\n",
    "The figure below shows the $X_i$, its parents, descendants and all the rest for a given $X_i$.\n",
    "\n",
    "Note that we disallow cycles \"since it is quite difficult to define a coherent probabilistic model over graphs with directed cycles.\" (p 37, Koller/Friedman) which means that:\n",
    "\n",
    "- A descendant cannot be a parent of $X_i$ or any of its parents \n",
    "- A parent cannot be a descendant of $X_i$ as this would make \n",
    "\n",
    "as each of these would introduce cycles. \n",
    "\n",
    "Let us introduce the following notations for each of these sets of nodes:\n",
    "\n",
    "- $\\mathcal{D}_i$ - descendants of $X_i$ in $G$\n",
    "- $\\mathcal{Q}_i$ - parents of $X_i$ in $G$ i.e. $\\text{Pa}_{X_i}^G$ (using Q instead of P to avoid confusion with the notation for probability e.g. $P(X_i)$.\n",
    "- $\\mathcal{R}_i$ - rest - all nodes which are non-descendants but not parents or $X_i$ itself i.e. $\\mathcal{X} - (\\{X_i\\} \\cup \\mathcal{D}_i \\cup \\mathcal{P}_i) $ "
   ]
  },
  {
   "cell_type": "markdown",
   "metadata": {},
   "source": [
    "Let $\\sum_{X_i}f(X_i)$ or $\\prod_{X_i}f(X_i)$ denote the sum or product of $f$ over all values of the variable $X_i$ and let $\\sum_{X_i \\in \\mathcal{X}}f(X_i)$ or $\\prod_{X_i \\in \\mathcal{X}}f(X_i)$ the sum or product of $f$ over each of the random variables in the set $\\mathcal{X}$ (and likewise for the sets $\\mathcal{Q}_i$, $\\mathcal{R}_i$, $\\mathcal{D}_i$).\n",
    "\n",
    "All of $\\{X_i\\}$, $\\mathcal{R}_i$, $\\mathcal{Q}_i$, $\\mathcal{D}_i$ are all - by definition - disjoint sets of nodes. Since a descendant is a child of $X_i$ or a child of any of its descendants, a descendant cannot be the parent of a non-descendant. \n",
    "\n",
    "Thus the joint probability over $X_i \\in \\mathcal{X}$ can be written as\n",
    "\n",
    "$$P(X_1, \\ldots, X_n ) = \\prod_{X_i \\in \\mathcal{X}} P\\left(X_i \\lvert \\text{Pa}_{X_i}^G\\right)\n",
    "= P\\left(X_i \\lvert \\text{Pa}_{X_i}^G\\right)\n",
    "\\prod_{Q_i \\in \\mathcal{Q}_i} P\\left(Q_i \\lvert \\text{Pa}_{Q_i}^G\\right)\n",
    "\\prod_{R_i \\in \\mathcal{R}_i} P\\left(R_i \\lvert \\text{Pa}_{R_i}^G\\right)\n",
    "\\prod_{D_i \\in \\mathcal{D}_i} P\\left(D_i \\lvert \\text{Pa}_{D_i}^G\\right)$$\n",
    "\n",
    "We will simplify the notation by writing $\\prod_{Q_i \\in \\mathcal{Q}_i} P\\left(Q_i \\lvert \\text{Pa}_{Q_i}^G\\right)$ as $P\\left(\\mathcal{Q}_i \\lvert \\text{Pa}_{\\mathcal{Q}_i}^G\\right)$, etc.\n",
    "\n",
    "\n",
    "Since the parents of $X_i$ are given, we need to show that $X_i$ is independent on its the remaining non-descendants conditioned on its parents. The definition of the set of non-descendants is given in the book by $\\mathcal{X} - \\text{Descendants}_{X_i}$ whilst  definition of the set of descendants is given as the set of nodes to which there exists a directed path starting from $X_i$ (both in Defintion 2.18, Koller/Friedman). However by definition 2.15 it doesn't seem that a directed path can exists from $X_i$ to itself other than as a cycle i.e. that there is no path of the form $X_i -> X_i$. Also in the discussion of the Student example (3.2.2.1) and in the the example for Theorem 3.2 (the one that we are seeking to prove here), they do not regard a node to be its own non-descendant. \n",
    "\n",
    "For now I will assume that $X_i$ is neither its own descendant nor its own non-descendant and  will show that $P\\left(X_i \\lvert \\text{Pa}_{X_i}^G,  \\mathcal{R}_i \\right) = P(X_i \\lvert \\text{Pa}_{X_i}^G)$. If $X_i$ should indeed be considered its own descendant then everything that follows will hold if we just redefine $\\mathcal{D}_i$ to be the set of descendants of $X_i$ excluding itself."
   ]
  },
  {
   "cell_type": "markdown",
   "metadata": {},
   "source": [
    "Assuming that $P(X_1, \\ldots, X_n)$ is factorised as given above\n",
    "\n",
    "$$P\\left(X_i \\lvert \\text{Pa}_{X_i}^G, \\mathcal{R}_i \\right)\n",
    "= \\frac{P\\left(X_i, \\text{Pa}_{X_i}^G, \\mathcal{R}_i \\right)}{P\\left(\\text{Pa}_{X_i}^G, \\mathcal{R}_i \\right)} \n",
    "= \\frac{\\sum_{\\mathbf{D}_i \\in \\mathcal{D}_i} P\\left(X_i \\lvert \\text{Pa}_{X_i}^G\\right)}\n",
    "{\\sum_{X_i}\\sum_{\\mathbf{D}_i \\in \\mathcal{D}_i} \\prod_{X_i \\in \\mathcal{X}} P\\left(X_i \\lvert \\text{Pa}_{X_i}^G\\right)} \\\\ \n",
    "= \\frac{\\sum_{\\mathbf{D}_i \\in \\mathcal{D}_i}\n",
    "P\\left(X_i \\lvert \\text{Pa}_{X_i}^G\\right)\n",
    "P\\left(\\mathcal{Q}_i \\lvert \\text{Pa}_{\\mathcal{Q}_i}^G\\right)\n",
    "P\\left(\\mathcal{R}_i \\lvert \\text{Pa}_{\\mathcal{R}_i}^G\\right)\n",
    "P\\left(\\mathcal{D}_i \\lvert \\text{Pa}_{\\mathcal{D}_i}^G\\right)}\n",
    "{\\sum_{X_i}\\sum_{\\mathbf{D}_i \\in \\mathcal{D}_i} \n",
    "P\\left(X_i \\lvert \\text{Pa}_{X_i}^G\\right)\n",
    "P\\left(\\mathcal{Q}_i \\lvert \\text{Pa}_{\\mathcal{Q}_i}^G\\right)\n",
    "P\\left(\\mathcal{R}_i \\lvert \\text{Pa}_{\\mathcal{R}_i}^G\\right)\n",
    "P\\left(\\mathcal{D}_i \\lvert \\text{Pa}_{\\mathcal{D}_i}^G\\right)} $$\n",
    "\n",
    "Here $\\sum_{\\mathcal{D}_i}$ denotes the sum of all the possible combinations of values of the set of descendants. In none of $P\\left(X_i \\lvert \\text{Pa}_{X_i}^G\\right)$, $P\\left(\\mathcal{Q}_i \\lvert \\text{Pa}_{\\mathcal{Q}_i}^G\\right)$ or $P\\left(\\mathcal{R}_i \\lvert \\text{Pa}_{\\mathcal{N}_i}^G\\right)$ are the variables conditioned on any of $D_i$ since as we noted above a descendant cannot be a parent of $X_i$, its parent or any other non-descendant and similarly $X_i$ cannot be a parent of its parent or of any of its non-descendants."
   ]
  },
  {
   "cell_type": "markdown",
   "metadata": {},
   "source": [
    "$$\\implies P\\left(X_i \\lvert \\text{Pa}_{X_i}^G, \\mathcal{R}_i \\right) \n",
    "= \\frac{P\\left(X_i \\lvert \\text{Pa}_{X_i}^G\\right)\n",
    "P\\left(\\mathcal{Q}_i \\lvert \\text{Pa}_{\\mathcal{Q}_i}^G\\right)\n",
    "P\\left(\\mathcal{R}_i \\lvert \\text{Pa}_{\\mathcal{R}_i}^G\\right)\n",
    "\\sum_{\\mathcal{D}_i}\n",
    "P\\left(\\mathcal{D}_i \\lvert \\text{Pa}_{\\mathbf{D}_i}^G\\right)}\n",
    "{P\\left(\\mathcal{Q}_i \\lvert \\text{Pa}_{\\mathcal{Q}_i}^G\\right)\n",
    "P\\left(\\mathcal{R}_i \\lvert \\text{Pa}_{\\mathcal{R}_i}^G\\right)\n",
    "\\sum_{X_i}\\sum_{\\mathcal{D}_i}\n",
    "P\\left(X_i \\lvert \\text{Pa}_{X_i}^G\\right)\n",
    "P\\left(\\mathcal{D}_i \\lvert \\text{Pa}_{\\mathcal{D}_i}^G\\right)} \\\\\n",
    "= \\frac{P\\left(X_i \\lvert \\text{Pa}_{X_i}^G\\right)\n",
    "\\sum_{\\mathcal{D}_i}\n",
    "P\\left(\\mathcal{D}_i \\lvert \\text{Pa}_{\\mathcal{D}_i}^G\\right)}\n",
    "{\\sum_{X_i}\\sum_{\\mathcal{D}_i}\n",
    "P\\left(X_i, \\mathcal{D}_i \\lvert \\text{Pa}_{\\mathcal{D}_i}^G - X_i, \\text{Pa}_{X_i}^G \\right)} \n",
    "= P\\left(X_i \\lvert \\text{Pa}_{X_i}^G\\right)$$\n",
    "\n",
    "The term $P\\left(\\mathcal{D}_i \\lvert \\text{Pa}_{\\mathbf{D}_i}^G\\right)$ is a distribution over the values of $\\mathcal{D_i}$ i.e. all combinations of all possible the values of each ${D}_i \\in \\mathcal{D}_i$, whilst $P\\left(X_i, \\mathcal{D}_i \\lvert \\text{Pa}_{\\mathbf{D}_i}^G - X_i, \\text{Pa}_{X_i}^G \\right)$ is a distribution over the values of $(X_i, \\mathcal{D}_i)$ so when summed over these values in the numerator and denominator, they both sum to 1, leading to the proof. The proof can be trivially extended to the continuous distributions by replacing the summations with integrals over the support of the variables. "
   ]
  }
 ],
 "metadata": {
  "kernelspec": {
   "display_name": "Python 3",
   "language": "python",
   "name": "python3"
  },
  "language_info": {
   "codemirror_mode": {
    "name": "ipython",
    "version": 3
   },
   "file_extension": ".py",
   "mimetype": "text/x-python",
   "name": "python",
   "nbconvert_exporter": "python",
   "pygments_lexer": "ipython3",
   "version": "3.6.4"
  }
 },
 "nbformat": 4,
 "nbformat_minor": 2
}
