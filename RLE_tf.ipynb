{
 "cells": [
  {
   "cell_type": "markdown",
   "metadata": {},
   "source": [
    "# Three methods for decoding run length encoding (RLE) in TensorFlow"
   ]
  },
  {
   "cell_type": "markdown",
   "metadata": {},
   "source": [
    "Run length encoding is a method to store segmentations in an efficient manner and is a frequently used data format in Kaggle competitions involving segmentation. You can read more about it [here](https://www.kaggle.com/lifa08/run-length-encode-and-decode).\n",
    "\n"
   ]
  },
  {
   "cell_type": "code",
   "execution_count": 134,
   "metadata": {},
   "outputs": [],
   "source": [
    "import numpy as np\n",
    "import tensorflow as tf\n",
    "import matplotlib.pyplot as plt\n",
    "import pandas as pd\n",
    "import time\n",
    "import sys\n",
    "%matplotlib inline"
   ]
  },
  {
   "cell_type": "markdown",
   "metadata": {},
   "source": [
    "## Data\n",
    "From [Kaggle Caravana Image Masking challenge](https://www.kaggle.com/c/carvana-image-masking-challenge)\n"
   ]
  },
  {
   "cell_type": "code",
   "execution_count": 135,
   "metadata": {},
   "outputs": [],
   "source": [
    "df = pd.read_csv('/Users/user/Downloads/train_masks.csv')\n",
    "masks = df.rle_mask.values\n",
    "shape = (1280,1918)"
   ]
  },
  {
   "cell_type": "markdown",
   "metadata": {},
   "source": [
    "## Numpy"
   ]
  },
  {
   "cell_type": "code",
   "execution_count": 136,
   "metadata": {},
   "outputs": [],
   "source": [
    "def rle_decode_np(mask_rle, shape):\n",
    "    '''\n",
    "    Source: https://www.kaggle.com/lifa08/run-length-encode-and-decode)\n",
    "    \n",
    "    mask_rle: run-length as string formated (start length)\n",
    "    shape: (height,width) of array to return \n",
    "    Returns numpy array, 1 - mask, 0 - background\n",
    "\n",
    "    '''\n",
    "    s = mask_rle.split()\n",
    "    starts, lengths = [np.asarray(x, dtype=int) for x in (s[0:][::2], s[1:][::2])]\n",
    "    starts -= 1\n",
    "    ends = starts + lengths\n",
    "    img = np.zeros(shape[0]*shape[1], dtype=np.uint8)\n",
    "    for lo, hi in zip(starts, ends):\n",
    "        img[lo:hi] = 1\n",
    "    return img.reshape(shape)"
   ]
  },
  {
   "cell_type": "markdown",
   "metadata": {},
   "source": [
    "## TensorFlow\n",
    "\n",
    "### Method 1 \n",
    "Somewhat wasteful approach that generates ranges for each (start, length) pair of size max(lengths), adds them to the starts and selects only the indices for each pair, that are less the end value for that pair."
   ]
  },
  {
   "cell_type": "code",
   "execution_count": 137,
   "metadata": {},
   "outputs": [],
   "source": [
    "def rle_decode_tf0(mask_rle, shape):\n",
    "    '''\n",
    "    mask_rle: run-length as string formated (start length)\n",
    "    shape: (height,width) of array to return \n",
    "    Returns tf tensor, 1 - mask, 0 - background\n",
    "\n",
    "    '''\n",
    "    s = tf.cast(tf.strings.to_number(tf.strings.split(tf.constant([mask_rle]), ' ').values), tf.int32)\n",
    "    starts = s[0::2]\n",
    "    lengths = s[1::2]\n",
    "    starts -= 1\n",
    "    ends = starts + lengths\n",
    "    max_range = tf.range(tf.reduce_max(lengths))\n",
    "    ranges = starts[:, None] + max_range[None]\n",
    "    ranges_mask = tf.less(ranges, ends[:, None])\n",
    "    inds = tf.boolean_mask(ranges, ranges_mask)\n",
    "    img = tf.scatter_nd(inds[:, None], tf.ones_like(inds), [shape[0]*shape[1]])\n",
    "    return tf.cast(tf.reshape(img, shape), tf.uint8)"
   ]
  },
  {
   "cell_type": "markdown",
   "metadata": {},
   "source": [
    "### Method 2 \n",
    "Somewhat complicated approach that first takes a cumulative sum over all the lengths and then arranges them in a vector so that which subtract from a range of size sum(lengths) the range gets restarted for each (start, length) pair. The starts are all also arranged similarly to the lengths so that when added to these new ranges, they give the mask indices. "
   ]
  },
  {
   "cell_type": "code",
   "execution_count": 138,
   "metadata": {},
   "outputs": [],
   "source": [
    "def rle_decode_tf1(mask_rle, shape):\n",
    "    '''\n",
    "    mask_rle: run-length as string formated (start length)\n",
    "    shape: (height,width) of array to return \n",
    "    Returns tf tensor, 1 - mask, 0 - background\n",
    "\n",
    "    '''\n",
    "    s = tf.cast(tf.strings.to_number(tf.strings.split(tf.constant([mask_rle]), ' ').values), tf.int32)\n",
    "    starts = s[0::2]\n",
    "    lengths = s[1::2]\n",
    "    starts -= 1\n",
    "    ends = starts + lengths\n",
    "    num_inds = tf.reduce_sum(lengths)\n",
    "    lengths_cumsum = tf.cumsum(lengths, exclusive=True)\n",
    "    starts_indicator = tf.scatter_nd(lengths_cumsum[:, None], tf.ones_like(lengths_cumsum), [num_inds])\n",
    "    row_inds = tf.cumsum(starts_indicator) - 1\n",
    "    lengths_shift = tf.gather(lengths_cumsum, row_inds)\n",
    "    starts_repeat = tf.gather(starts, row_inds)\n",
    "    inds = starts_repeat + tf.range(num_inds) - lengths_shift\n",
    "    img = tf.scatter_nd(inds[:, None], tf.ones_like(inds), [shape[0]*shape[1]])\n",
    "    return tf.cast(tf.reshape(img, shape), tf.uint8)"
   ]
  },
  {
   "cell_type": "markdown",
   "metadata": {},
   "source": [
    "### Method 3\n",
    "A clean, simple approach made possible by the tf.ragged functionality in TensorFlow 2.0 which makes it possible to generate a set of variable size ranges for pairs of starts and lengths which is exactly what we require."
   ]
  },
  {
   "cell_type": "code",
   "execution_count": 139,
   "metadata": {},
   "outputs": [],
   "source": [
    "def rle_decode_tf2(mask_rle, shape):\n",
    "    '''\n",
    "    Requires TF 2.0\n",
    "    \n",
    "    mask_rle: run-length as string formated (start length)\n",
    "    shape: (height,width) of array to return \n",
    "    Returns tf tensor, 1 - mask, 0 - background\n",
    "\n",
    "    '''\n",
    "    s = tf.cast(tf.strings.to_number(tf.strings.split(tf.constant([mask_rle]), ' ').values), tf.int32)\n",
    "    starts = s[0::2]\n",
    "    lengths = s[1::2]\n",
    "    starts -= 1\n",
    "    ends = starts + lengths\n",
    "    inds = tf.ragged.range(starts, ends).values\n",
    "    img = tf.scatter_nd(inds[:, None], tf.ones_like(inds), [shape[0]*shape[1]])\n",
    "    return tf.cast(tf.reshape(img, shape), tf.uint8)"
   ]
  },
  {
   "cell_type": "code",
   "execution_count": 130,
   "metadata": {},
   "outputs": [
    {
     "name": "stdout",
     "output_type": "stream",
     "text": [
      "5088/5088, np: 12.3134, tf0: 286.3517, tf1: 301.1048, tf2: 208.5881"
     ]
    }
   ],
   "source": [
    "time_np = 0\n",
    "time_tf = [0, 0, 0]\n",
    "for i, mask_rle in enumerate(masks, 1):\n",
    "    t = time.time()\n",
    "    mask_np = rle_decode_np(mask_rle, shape)\n",
    "    time_np += (time.time() - t)\n",
    "    time_str = 'np: {:.4f}'.format(time_np)\n",
    "    for j in range(3):\n",
    "        rle_decode_tf = globals()['rle_decode_tf{}'.format(j)]\n",
    "\n",
    "        t = time.time()\n",
    "        mask_tf = rle_decode_tf(mask_rle, shape).numpy()\n",
    "        time_tf[j] += (time.time() - t)\n",
    "        \n",
    "\n",
    "        assert(np.all(mask_np == mask_tf))\n",
    "        \n",
    "    time_str += (', ' + ', '.join(map('tf{}: {:.4f}'.format, range(3), time_tf)))\n",
    "\n",
    "    sys.stdout.write('\\r{}/{}, {}'.format(i, len(masks), time_str))"
   ]
  },
  {
   "cell_type": "markdown",
   "metadata": {},
   "source": [
    "Notably all the TensorFlow versions are considerably slower than the numpy version. Both the versions without tf.ragged are similar in speed whilst the one with it is faster although still much slower than the numpy one. I have yet to investigate the reason for this and in particular whether they would still be as slow on a GPU. "
   ]
  }
 ],
 "metadata": {
  "kernelspec": {
   "display_name": "tf2",
   "language": "python",
   "name": "tf2"
  },
  "language_info": {
   "codemirror_mode": {
    "name": "ipython",
    "version": 3
   },
   "file_extension": ".py",
   "mimetype": "text/x-python",
   "name": "python",
   "nbconvert_exporter": "python",
   "pygments_lexer": "ipython3",
   "version": "3.6.4"
  }
 },
 "nbformat": 4,
 "nbformat_minor": 2
}
