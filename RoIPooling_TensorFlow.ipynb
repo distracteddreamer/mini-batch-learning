{
 "cells": [
  {
   "cell_type": "markdown",
   "metadata": {},
   "source": [
    "# RoIPooling in TensorFlow\n",
    "\n",
    "TensorFlow does not to my knowledge enable max pooling with dynamic kernel size. Here I have written a function that does region of interest pooling (RoIPooling), which is used in object detection architectures such as Fast RCNN. This was more of an exercise in writing this function without using a tf.while_loop rather than necessarily an implementation that would be useful in practice. \n",
    "\n",
    "It is still a work in progress and I have not actually used it in a detection model yet! It works as follows:\n",
    "\n",
    "- A grid the size of the feature maps is generated\n",
    "- The RoIs are used to obtain bounding x and y coordinates of the n x n blocks into which the grid is divided for pooling\n",
    "- For each point in the grid we determine if the coordinates of the point fall within the bounding coordinates \n",
    "- We do this separately for x and y and then do a pairwise comparison (using broadcasting) to determine for each RoI if each grid coordinate is in one of the blocks of that RoI\n",
    "- Then we use the result to mask out for each block all the regions of the image outside the block \n",
    "- Points outside the RoI will be False for all the blocks so they will be masked out\n",
    "- Finally we call a pooling function such as max across the image dimensions are left with a tensor of shape pool_size x pool_size x n_channels for each RoI in each image as required.\n",
    "- Broadcasting is used extensively\n",
    "- Unlike max pooling with a kernel the blocks over which pooling happens might be of different sizes.\n",
    "- For RoIs that evenly divide poolsize the result should the same as applying max pooling with a kernel and stride of [h/pool_size, w/pool_size] over the RoI."
   ]
  },
  {
   "cell_type": "code",
   "execution_count": 1503,
   "metadata": {},
   "outputs": [],
   "source": [
    "import numpy as np\n",
    "import tensorflow as tf"
   ]
  },
  {
   "cell_type": "code",
   "execution_count": 1504,
   "metadata": {},
   "outputs": [],
   "source": [
    "def roi_pooling(x, bboxes, poolsize, pool_type='max',normed=True):\n",
    "    # x: batch_size(N) x H x W x C\n",
    "    # bboxes: batch_size(N) x n_rois(R) x 4, should be in the range [0,1]\n",
    "    # Will work for single image and roi i.e. x: H x W x C, bboxes: R x 4 by adding single dimensions\n",
    "    \n",
    "    # If bboxes are zero-padded where fewer than R RoIs in an image, then function simply returns zeros\n",
    "    \n",
    "    assert pool_type in ['max', 'avg']\n",
    "    \n",
    "    if pool_type=='max':\n",
    "        pool_fn = tf.reduce_max\n",
    "    else:\n",
    "        pool_fn = tf.reduce_mean\n",
    "    \n",
    "    shape = tf.shape(x)[1:3]\n",
    "    \n",
    "    # H x W\n",
    "    grid = tf.stack(tf.meshgrid(tf.range(shape[0]), tf.range(shape[1]), indexing='ij'), axis=-1)\n",
    "    grid = tf.to_float(grid)/tf.to_float(shape)\n",
    "    \n",
    "    #For debugging \n",
    "    if not normed:\n",
    "        grid = grid*tf.to_float(shape)\n",
    "        \n",
    "    #N x R 1 x 4\n",
    "    bboxes = bboxes[:, :, None]\n",
    "    \n",
    "    # N x R x 1 x 2\n",
    "    step = (bboxes[...,2:] - bboxes[...,:2])/pool_size\n",
    "\n",
    "    # N x R x (pool_size(P) + 1) x 2\n",
    "    ranges = bboxes[..., :2] + tf.range(pool_size+1, dtype=tf.float32)[None, None,:, None]*step\n",
    "    ranges = tf.to_float(ranges)\n",
    "    # grid[None,None,..., None,:] -> 1 x 1 x H x W x 1 x 2\n",
    "    # ranges[:,:,None,None,:-1]   -> N x R x 1 x 1 x P x 2\n",
    "    # N x R x H x W x P x 2\n",
    "    in_range_xy = tf.logical_and(grid[None,None,..., None,:] >= ranges[:,:,None,None,:-1], \n",
    "                                 grid[None,None,...,None,:] < ranges[:,:,None,None,1:])\n",
    "    \n",
    "    # in_range_xy[...,None,0]  ->    N x R x H x W x P x 1\n",
    "    # in_range_xy[...,None,:,1]  ->  N x R x H x W x 1 x P\n",
    "    # N x R x H x W x P x P\n",
    "    pool_mask = tf.logical_and(in_range_xy[...,None,0], in_range_xy[...,None,:,1])\n",
    "    \n",
    "    # N x R x H x W x P x P x 1\n",
    "    pool_mask = tf.to_float(pool_mask[...,None])\n",
    "    \n",
    "    # x[:,None,...,None,None,:]   ->   N x 1 x H x W x 1 x 1 x C\n",
    "    # N x R x P x P x C\n",
    "    pool = pool_fn(x[:,None,...,None,None,:]*pool_mask, axis=(2, 3))\n",
    "    \n",
    "    return pool_mask, pool"
   ]
  },
  {
   "cell_type": "code",
   "execution_count": 1505,
   "metadata": {},
   "outputs": [],
   "source": [
    "def crop_im(im, bbox):\n",
    "    x1, y1, x2, y2 = bbox\n",
    "    return im[x1:x2, y1:y2]"
   ]
  },
  {
   "cell_type": "code",
   "execution_count": 1506,
   "metadata": {},
   "outputs": [],
   "source": [
    "h = 50\n",
    "w = 70\n",
    "n = 4\n",
    "shape = np.array([h,w])\n",
    "bb1 = [10,10,18,18]\n",
    "bb2 = [21,24,34,35]\n",
    "bb3 = [1,2, 9, 9]\n",
    "bb4 = [1,2, 8, 8]\n",
    "bb5 = [9, 12, 17, 19]\n",
    "bb6 = [0, 0, 0, 0]\n",
    "bb = np.array([[bb1, bb2, bb3],\n",
    "               [ bb4, bb5, bb6]])/np.tile(shape[None,None], [1,1,2])\n",
    "\n",
    "\n"
   ]
  },
  {
   "cell_type": "code",
   "execution_count": 1507,
   "metadata": {},
   "outputs": [],
   "source": [
    "im = np.random.random(size=(2,h,w,1))"
   ]
  },
  {
   "cell_type": "code",
   "execution_count": 1508,
   "metadata": {},
   "outputs": [],
   "source": [
    "img = tf.placeholder(shape=[None,None,None,None], dtype=tf.float32)\n",
    "bbox = tf.placeholder(shape=[None,None,4], dtype=tf.float32)\n",
    "pool_size = tf.placeholder(shape=[], dtype=tf.float32)\n",
    "\n",
    "pool_mask, pool = roi_pooling(img, bbox, pool_size)"
   ]
  },
  {
   "cell_type": "code",
   "execution_count": 1509,
   "metadata": {},
   "outputs": [],
   "source": [
    "with tf.Session() as sess:\n",
    "    pmask, p = sess.run([pool_mask, pool], {img:im, bbox:bb, pool_size:n})"
   ]
  },
  {
   "cell_type": "code",
   "execution_count": 1510,
   "metadata": {},
   "outputs": [
    {
     "data": {
      "text/plain": [
       "(2, 3, 4, 4, 1)"
      ]
     },
     "execution_count": 1510,
     "metadata": {},
     "output_type": "execute_result"
    }
   ],
   "source": [
    "p.shape"
   ]
  },
  {
   "cell_type": "code",
   "execution_count": 1511,
   "metadata": {},
   "outputs": [],
   "source": [
    "crop = crop_im(im[1,...,0], bb4)"
   ]
  },
  {
   "cell_type": "code",
   "execution_count": 1512,
   "metadata": {},
   "outputs": [
    {
     "data": {
      "text/plain": [
       "array([[0.91, 0.33, 0.77, 0.72, 0.74, 0.78],\n",
       "       [0.64, 0.68, 0.39, 0.64, 0.29, 0.53],\n",
       "       [0.03, 0.83, 0.68, 0.23, 0.35, 0.45],\n",
       "       [0.61, 0.14, 0.19, 0.01, 0.55, 0.8 ],\n",
       "       [0.89, 0.66, 0.49, 0.79, 0.62, 0.02],\n",
       "       [0.48, 0.39, 0.83, 0.38, 0.23, 0.54],\n",
       "       [0.39, 0.22, 0.57, 0.8 , 0.18, 0.43]])"
      ]
     },
     "execution_count": 1512,
     "metadata": {},
     "output_type": "execute_result"
    }
   ],
   "source": [
    "crop.round(2)"
   ]
  },
  {
   "cell_type": "code",
   "execution_count": 1513,
   "metadata": {},
   "outputs": [
    {
     "data": {
      "text/plain": [
       "array([[0.91, 0.77, 0.74, 0.78],\n",
       "       [0.83, 0.68, 0.55, 0.8 ],\n",
       "       [0.89, 0.83, 0.79, 0.54],\n",
       "       [0.39, 0.57, 0.8 , 0.43]], dtype=float32)"
      ]
     },
     "execution_count": 1513,
     "metadata": {},
     "output_type": "execute_result"
    }
   ],
   "source": [
    "p[1,0,...,0].round(2)"
   ]
  },
  {
   "cell_type": "code",
   "execution_count": 1514,
   "metadata": {},
   "outputs": [
    {
     "data": {
      "text/plain": [
       "(2, 3, 4, 4, 1)"
      ]
     },
     "execution_count": 1514,
     "metadata": {},
     "output_type": "execute_result"
    }
   ],
   "source": [
    "p.shape"
   ]
  },
  {
   "cell_type": "code",
   "execution_count": 1515,
   "metadata": {},
   "outputs": [],
   "source": [
    "mask2 = pmask[1,...,0]\n",
    "mask2_dense = np.argmax(np.reshape(mask2, (3,h,w,n**2)), axis=-1)\n",
    "mask2_all = np.sum(mask2_dense, axis=0)"
   ]
  },
  {
   "cell_type": "markdown",
   "metadata": {},
   "source": [
    "Note that bb6 does not give rise to a non-zero mask"
   ]
  },
  {
   "cell_type": "code",
   "execution_count": 1516,
   "metadata": {},
   "outputs": [
    {
     "data": {
      "image/png": "[encoded data removed]",
      "text/plain": [
       "<Figure size 432x288 with 1 Axes>"
      ]
     },
     "metadata": {},
     "output_type": "display_data"
    }
   ],
   "source": [
    "import matplotlib.pyplot as plt\n",
    "%matplotlib inline\n",
    "plt.imshow(mask2_all)\n",
    "plt.axis('off');"
   ]
  },
  {
   "cell_type": "code",
   "execution_count": 1543,
   "metadata": {},
   "outputs": [],
   "source": [
    "def plot_grid(values, points, color_values=None, offx=0, offy=0, th=0, maxgrid=None, maxonly=False):\n",
    "    color_values = color_values if color_values is not None else values\n",
    "\n",
    "    for i, (color_value, value, point) in enumerate(zip(color_values, values, points)):\n",
    "        if maxgrid is not None and np.isclose(value, maxgrid[i]):\n",
    "            cl = 'red'\n",
    "            plt.text(point[0]+offx, point[1]+offy,np.round(value,1), \n",
    "                 color=cl)\n",
    "        elif not maxonly:\n",
    "            cl = 'white' if color_value < th else 'k'\n",
    "            plt.text(point[0]+offx, point[1]+offy,np.round(value,1), \n",
    "                 color=cl)"
   ]
  },
  {
   "cell_type": "code",
   "execution_count": 1544,
   "metadata": {},
   "outputs": [],
   "source": [
    "def points_from_bbox(bbox):\n",
    "    x1, y1, x2, y2 = bbox \n",
    "    grid = np.meshgrid(np.arange(y2-y1), np.arange(x2-x1), indexing='xy')\n",
    "    return np.reshape(np.stack(grid,-1), [-1,2])"
   ]
  },
  {
   "cell_type": "code",
   "execution_count": 1546,
   "metadata": {},
   "outputs": [
    {
     "data": {
      "image/png": "[encoded data removed]",
      "text/plain": [
       "<Figure size 1080x216 with 5 Axes>"
      ]
     },
     "metadata": {},
     "output_type": "display_data"
    }
   ],
   "source": [
    "crop_mask = crop_im(pmask[1,0,...,0].reshape(h,w,-1).argmax(-1), bb4)\n",
    "maxes = p[1,0,...,0].reshape(-1)[crop_mask]\n",
    "points = points_from_bbox(bb4)\n",
    "n_blocks = len(np.unique(crop_mask))\n",
    "mids = np.array([points[crop_mask.ravel()==i].mean(axis=0) for i in range(n_blocks) ])\n",
    "mids = mids[crop_mask].reshape([-1,2])\n",
    "\n",
    "\n",
    "plt.figure(figsize=(15,3))\n",
    "plt.subplot(1,5,1)\n",
    "plt.imshow(crop)\n",
    "plt.axis('off')\n",
    "plot_grid(crop.reshape(-1), points, offx=-0.2, offy=0, th=0.6, maxgrid=maxes.ravel())\n",
    "\n",
    "plt.subplot(1,5,2)\n",
    "plt.imshow(crop_mask)\n",
    "plt.axis('off')\n",
    "plot_grid(crop_mask.reshape(-1), points, offx=-0.2, offy=0, th=10)\n",
    "\n",
    "plt.subplot(1,5,3)\n",
    "plt.imshow(crop_mask)\n",
    "plt.axis('off')\n",
    "plot_grid(crop.reshape(-1), points, crop_mask.reshape(-1), offx=-0.2, offy=0, th=10, \n",
    "          maxgrid=maxes.ravel())\n",
    "\n",
    "\n",
    "plt.subplot(1,5,4)\n",
    "crop_mask = crop_im(pmask[1,0,...,0].reshape(h,w,-1).argmax(-1), bb4)\n",
    "plt.imshow(crop_mask)\n",
    "plt.axis('off')\n",
    "plot_grid(crop.reshape(-1), mids, offx=-0.2, offy=0, th=0.6, maxgrid=maxes.ravel(), maxonly=True)\n",
    "\n",
    "\n",
    "plt.subplot(1,5,5)\n",
    "plt.imshow(np.arange(16).reshape((4,4)))\n",
    "pool_points = points_from_bbox([0,0,n,n])\n",
    "plt.axis('off')\n",
    "plot_grid(p[1,0,...,0].ravel(), pool_points, np.arange(16), offx=-0.2, offy=0, th=10)\n"
   ]
  },
  {
   "cell_type": "code",
   "execution_count": 1547,
   "metadata": {},
   "outputs": [],
   "source": [
    "def equiv_kernel(bbox, n):\n",
    "    x1, y1, x2, y2 = bbox\n",
    "    return (x2-x1)//n, (y2-y1)//n"
   ]
  },
  {
   "cell_type": "code",
   "execution_count": 1548,
   "metadata": {},
   "outputs": [],
   "source": [
    "bb_even1 = [3, 2, 15, 10]\n",
    "bb_even2 = [25, 20, 37, 28]\n",
    "bb_even = np.array([bb_even1, bb_even2])#/np.tile(shape, 2)[None]\n",
    "\n",
    "#Sometimes roipool does not divide grid in even number of blocks even if divisible,\n",
    "#but using non-normalized co-ordinates seems to make this work fine - in practice\n",
    "#unlikely to be divisible in equal sized blocks and hopefully differences between\n",
    "#detections in terms of splitting will even out \n",
    "\n",
    "pool_mask_even, pool_even = roi_pooling(img, bbox, pool_size, normed=False)\n",
    "\n",
    "ker = equiv_kernel(bb_even1, n)\n",
    "maxpool = tf.layers.max_pooling2d(img, pool_size=ker, strides=ker, padding='valid')\n",
    "with tf.Session() as sess:\n",
    "    pmask_even, p_even = sess.run([pool_mask_even, pool_even], {img: im[:1], bbox:bb_even[None], pool_size:n })\n",
    "    mpool1 = sess.run(maxpool, {img: crop_im(im[0,...,0], bb_even1)[None,...,None] })\n",
    "    mpool2 = sess.run(maxpool, {img: crop_im(im[0,...,0], bb_even2)[None,...,None] })"
   ]
  },
  {
   "cell_type": "code",
   "execution_count": 1549,
   "metadata": {},
   "outputs": [],
   "source": [
    "mpool = np.concatenate([mpool1, mpool2], axis=0)"
   ]
  },
  {
   "cell_type": "code",
   "execution_count": 1550,
   "metadata": {},
   "outputs": [
    {
     "data": {
      "text/plain": [
       "True"
      ]
     },
     "execution_count": 1550,
     "metadata": {},
     "output_type": "execute_result"
    }
   ],
   "source": [
    "#Sometimes is not true as does not (due to floating point error maybe ???) as roipool does\n",
    "#divide grid in even number of blocks even if divisible\n",
    "np.allclose(mpool, p_even[0])"
   ]
  },
  {
   "cell_type": "code",
   "execution_count": 1551,
   "metadata": {},
   "outputs": [
    {
     "data": {
      "image/png": "[encoded data removed]",
      "text/plain": [
       "<Figure size 432x288 with 1 Axes>"
      ]
     },
     "metadata": {},
     "output_type": "display_data"
    }
   ],
   "source": [
    "mask2 = pmask_even[0,...,0]\n",
    "mask2_dense = np.argmax(np.reshape(mask2, (2,h,w,n**2)), axis=-1)\n",
    "mask2_all = np.sum(mask2_dense, axis=0)\n",
    "plt.imshow(mask2_all)\n",
    "plt.axis('off');"
   ]
  },
  {
   "cell_type": "code",
   "execution_count": 1552,
   "metadata": {},
   "outputs": [
    {
     "data": {
      "text/plain": [
       "array([[ 0,  0,  1,  1,  2,  2,  3,  3],\n",
       "       [ 0,  0,  1,  1,  2,  2,  3,  3],\n",
       "       [ 0,  0,  1,  1,  2,  2,  3,  3],\n",
       "       [ 4,  4,  5,  5,  6,  6,  7,  7],\n",
       "       [ 4,  4,  5,  5,  6,  6,  7,  7],\n",
       "       [ 4,  4,  5,  5,  6,  6,  7,  7],\n",
       "       [ 8,  8,  9,  9, 10, 10, 11, 11],\n",
       "       [ 8,  8,  9,  9, 10, 10, 11, 11],\n",
       "       [ 8,  8,  9,  9, 10, 10, 11, 11],\n",
       "       [12, 12, 13, 13, 14, 14, 15, 15],\n",
       "       [12, 12, 13, 13, 14, 14, 15, 15],\n",
       "       [12, 12, 13, 13, 14, 14, 15, 15]])"
      ]
     },
     "execution_count": 1552,
     "metadata": {},
     "output_type": "execute_result"
    }
   ],
   "source": [
    "crop_im(pmask_even[0,1,...,0].reshape(h,w,-1).argmax(-1), bb_even2)"
   ]
  },
  {
   "cell_type": "code",
   "execution_count": 1553,
   "metadata": {},
   "outputs": [
    {
     "data": {
      "text/plain": [
       "array([[ 0,  0,  1,  1,  2,  2,  3,  3],\n",
       "       [ 0,  0,  1,  1,  2,  2,  3,  3],\n",
       "       [ 0,  0,  1,  1,  2,  2,  3,  3],\n",
       "       [ 4,  4,  5,  5,  6,  6,  7,  7],\n",
       "       [ 4,  4,  5,  5,  6,  6,  7,  7],\n",
       "       [ 4,  4,  5,  5,  6,  6,  7,  7],\n",
       "       [ 8,  8,  9,  9, 10, 10, 11, 11],\n",
       "       [ 8,  8,  9,  9, 10, 10, 11, 11],\n",
       "       [ 8,  8,  9,  9, 10, 10, 11, 11],\n",
       "       [12, 12, 13, 13, 14, 14, 15, 15],\n",
       "       [12, 12, 13, 13, 14, 14, 15, 15],\n",
       "       [12, 12, 13, 13, 14, 14, 15, 15]])"
      ]
     },
     "execution_count": 1553,
     "metadata": {},
     "output_type": "execute_result"
    }
   ],
   "source": [
    "crop_im(pmask_even[0,0,...,0].reshape(h,w,-1).argmax(-1), bb_even1)"
   ]
  }
 ],
 "metadata": {
  "kernelspec": {
   "display_name": "Python 3",
   "language": "python",
   "name": "python3"
  },
  "language_info": {
   "codemirror_mode": {
    "name": "ipython",
    "version": 3
   },
   "file_extension": ".py",
   "mimetype": "text/x-python",
   "name": "python",
   "nbconvert_exporter": "python",
   "pygments_lexer": "ipython3",
   "version": "3.6.1"
  }
 },
 "nbformat": 4,
 "nbformat_minor": 2
}
