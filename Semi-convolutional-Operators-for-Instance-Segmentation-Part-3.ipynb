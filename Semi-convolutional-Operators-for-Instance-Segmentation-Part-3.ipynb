{
 "cells": [
  {
   "cell_type": "markdown",
   "metadata": {},
   "source": [
    "### Semi-convolutional Mask RCNN\n",
    "- MaskRCNN consists of two stages:\n",
    "    1. Find candidate regions where objects could be located\n",
    "    2. Segment the candidate regions into foreground and background in addition  \n",
    "- Semi-convolutional operators can be combined with Mask RCNN as follows\n",
    "    - For each candidate $R$, the probability map is used to identify 'seed pixels' pixesl "
   ]
  }
 ],
 "metadata": {
  "kernelspec": {
   "display_name": "Python 3",
   "language": "python",
   "name": "python3"
  },
  "language_info": {
   "codemirror_mode": {
    "name": "ipython",
    "version": 3
   },
   "file_extension": ".py",
   "mimetype": "text/x-python",
   "name": "python",
   "nbconvert_exporter": "python",
   "pygments_lexer": "ipython3",
   "version": "3.6.1"
  }
 },
 "nbformat": 4,
 "nbformat_minor": 2
}
