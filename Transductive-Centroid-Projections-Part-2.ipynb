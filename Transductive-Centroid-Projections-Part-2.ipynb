{
 "cells": [
  {
   "cell_type": "markdown",
   "metadata": {},
   "source": [
    "### What is different about this approach?\n",
    "- A key idea here is that the classifier deals differently with the labelled and unlabelled examples.\n",
    "- The classifier weights are not influenced by the unlabelled data.\n",
    "- In ordered for the loss for unlabelled examples to be low, they should be close to their centroids which means they must be close to each other.\n",
    "- Thus the feature extractor is encouraged to push similar examples close to each other which will also help push together the embeddings for similar *labelled* examples. \n",
    "- The model performs better than the following semi-/unsupervised approaches\n",
    "    - Clustering the unlabelled data and training the model using the cluster centres as labels\n",
    "    - Pseudo-labelling training on labelled data and then obtaining predicted labels for the unlabelled data using the trained model and using these as labels for subsequent training\n",
    "    - Using a triplet loss for with the unlabelled data\n",
    "   "
   ]
  },
  {
   "cell_type": "markdown",
   "metadata": {},
   "source": [
    "### Need for smaller batch size\n",
    "- There will tend to be more clusters than classes so it is possible that groups of unlabelled examples whose true label is the same are assigned to different clusters by the clustering algorithm.\n",
    "- This only matters if more than one such group is present in the mini-batch as conflicting messages will then be sent to the feature detector about how to deal with features in a class with more than one cluster. \n",
    "- Assuming that there are equal numbers of clusters that actually belong to each class, the larger the batch the more likely it is that it contains more than one cluster belonging to the same class."
   ]
  }
 ],
 "metadata": {
  "kernelspec": {
   "display_name": "Python 3",
   "language": "python",
   "name": "python3"
  },
  "language_info": {
   "codemirror_mode": {
    "name": "ipython",
    "version": 3
   },
   "file_extension": ".py",
   "mimetype": "text/x-python",
   "name": "python",
   "nbconvert_exporter": "python",
   "pygments_lexer": "ipython3",
   "version": "3.6.1"
  }
 },
 "nbformat": 4,
 "nbformat_minor": 2
}
