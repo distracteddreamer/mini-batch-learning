{
 "cells": [
  {
   "cell_type": "markdown",
   "metadata": {},
   "source": [
    "### The problem \n",
    "- $X$, $Y$ are two image domains\n",
    "- Goal is to train a generator $G: X \\rightarrow Y$ \n",
    "- Dataset consists of *unpaired* samples $x \\in X$ and $y \\in Y$.\n",
    "- The output of $G$ should look like it belongs to domain $Y$"
   ]
  },
  {
   "cell_type": "markdown",
   "metadata": {},
   "source": [
    "### The model\n",
    "- The loss function consists of an adversarial loss \n",
    "\n",
    "$$L_G = l_{adv}(G(x), Y) + \\lambda l_reg(x, G(x))$$\n",
    "\n",
    "- The generator has two branches\n",
    "    - $G_0$:\n",
    "        - Vanilla generator\n",
    "        - Translates input into output domain to create a similar image\n",
    "            \n",
    "    - $G_{\\text{attn}}$:\n",
    "        - Attention branch\n",
    "        - Output probability map as attention mask\n",
    "\n",
    "- Loss function consists of usual adversarial loss plus self-regularisation loss\n",
    "- Self-regularisation loss\n",
    "    - Need to prevent generator from mapping input images to random permutations of images in the target domain\n",
    "    - We wish to constrain the mapping such that it is meaningful\n",
    "    - Require that $G$ should preserve visual characteristics of input image\n",
    "    - Input and target should share perceptual similarities\n",
    "    - Especially low-level features e.g. colour, edges, shape, objects, etc. should be similar\n",
    "    - One way of approaching this is to consider that the features extracted by the early layers "
   ]
  },
  {
   "cell_type": "markdown",
   "metadata": {},
   "source": [
    "### Implementation details\n",
    "- Training:\n",
    "    - In practice it is difficult to train the two separate branches jointly\n",
    "    - First the vanilla generator is trained by itself\n",
    "    - When it has converged the attention branch is trained, keeping $G_0$ fixed\n",
    "    - Finally both branches are jointly fine-tuned"
   ]
  }
 ],
 "metadata": {
  "kernelspec": {
   "display_name": "Python 3",
   "language": "python",
   "name": "python3"
  },
  "language_info": {
   "codemirror_mode": {
    "name": "ipython",
    "version": 3
   },
   "file_extension": ".py",
   "mimetype": "text/x-python",
   "name": "python",
   "nbconvert_exporter": "python",
   "pygments_lexer": "ipython3",
   "version": "3.6.1"
  }
 },
 "nbformat": 4,
 "nbformat_minor": 2
}
