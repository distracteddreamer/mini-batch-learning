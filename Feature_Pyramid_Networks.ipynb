{
 "cells": [
  {
   "cell_type": "markdown",
   "metadata": {},
   "source": [
    "# Feature Pyramid Networks\n",
    "In a ConvNet of the sort used for classification, typically the input progressively transformed to lower resolution feature maps, which stacked on top of each other form a pyramid of feature maps. This is a bottom up pyramid since the feature maps decrease in size as you move along the feedforward pathway.\n",
    "\n",
    "### Bottom-up pathway\n",
    "- The feedforward pathway of the backbone over the course of which feature maps are downscaled by 2 at various points\n",
    "- Typically there are sequences of layers during which the feature map size is preserved.\n",
    "- These are referred to as network stages.\n",
    "- The last feature map of each stage is used to build the feature pyramid as these will have the strongest (most relevant/important to classification?) features\n",
    "- For example in ResNets the last feature maps from the residual blocks of each stage are used\n",
    "\n",
    "\n",
    "\n",
    "### Top-down pathway \n",
    "Feature pyramid networks construct a second pathway that reverses the order of the feature map scales creating a top-down pyramid. This is akin to the encoder-decoder structure found in fully convolutional networks such as U-Net, with the main difference that the top-down pyramid does not mirror the structure of the bottom-up backbone network. The backbone can be any convolutional network which has a pyramid of feature maps. It can have an arbitrary number of layers and different types of modules such as residual blocks. On the other hand the top-down pyramid has a much simpler structure simply consisting of a set of feature maps for each pyramid level. \n",
    "\n",
    "- The top-down pathway sequentially learns larger feature maps starting from the last, smallest feature map of the bottom-up pathway i.e. from the top of the pyramid.\n",
    "- The first feature map of the top-down pyramid is constructed by passing the the smallest - lowest resolution - feature map of the bottom-up pyramid through a 1 x 1 conv layer which reduces the number of channels. \n",
    "- Subsequent higher resolution feature maps are generated as follows:\n",
    "    - Lower feature maps are upsampled to twice the size\n",
    "    - The corresponding size feature maps from the bottom-up pathway is passed through a 1 x 1 conv layer to reduce its channel dimensions to be the same as that of the lower resolution featuer map\n",
    "    - These two sets of feature maps are merged by element-wise addition\n",
    "    - Finally the merged feature maps are passed through a 3 x 3 conv layer in order to reduce the aliasing effect of upsampling\n",
    "    "
   ]
  },
  {
   "cell_type": "markdown",
   "metadata": {},
   "source": [
    "<img src='FPN.png'/>"
   ]
  }
 ],
 "metadata": {
  "kernelspec": {
   "display_name": "Python 3",
   "language": "python",
   "name": "python3"
  },
  "language_info": {
   "codemirror_mode": {
    "name": "ipython",
    "version": 3
   },
   "file_extension": ".py",
   "mimetype": "text/x-python",
   "name": "python",
   "nbconvert_exporter": "python",
   "pygments_lexer": "ipython3",
   "version": "3.6.4"
  }
 },
 "nbformat": 4,
 "nbformat_minor": 2
}
